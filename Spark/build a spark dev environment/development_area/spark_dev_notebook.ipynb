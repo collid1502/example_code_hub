{
 "cells": [
  {
   "cell_type": "markdown",
   "metadata": {},
   "source": [
    "# Spark Development Notebook \n",
    "\n",
    "\n",
    "add loads of details here ... "
   ]
  },
  {
   "cell_type": "code",
   "execution_count": 3,
   "metadata": {},
   "outputs": [],
   "source": [
    "# imports \n",
    "import os \n",
    "import pandas as pd\n",
    "from pyspark.sql import SparkSession"
   ]
  },
  {
   "cell_type": "code",
   "execution_count": 4,
   "metadata": {},
   "outputs": [
    {
     "name": "stdout",
     "output_type": "stream",
     "text": [
      "/opt/spark-3.3.4-bin-hadoop3\n"
     ]
    }
   ],
   "source": [
    "# ensure SPARK_HOME exists \n",
    "print(os.getenv('SPARK_HOME'))"
   ]
  },
  {
   "cell_type": "code",
   "execution_count": null,
   "metadata": {},
   "outputs": [],
   "source": [
    "# Set up the Spark session\n",
    "spark = (SparkSession.builder \n",
    "    .appName(\"Spark Dev App\") \n",
    "    .master(\"spark://spark-master:7077\")   # Connect to the Spark cluster\n",
    "    # .config(\"spark.hadoop.fs.s3a.endpoint\", \"http://minio:9000\")  # MinIO endpoint\n",
    "    # .config(\"spark.hadoop.fs.s3a.access.key\", \"minio_admin\")   # MinIO access key\n",
    "    # .config(\"spark.hadoop.fs.s3a.secret.key\", \"fnSZspu4tOETPLQ\")   # MinIO secret key\n",
    "    # .config(\"spark.hadoop.fs.s3a.path.style.access\", \"true\")  # Required for MinIO\n",
    "    # .config(\"spark.hadoop.fs.s3a.impl\", \"org.apache.hadoop.fs.s3a.S3AFileSystem\")   # S3A connector\n",
    "    # .config(\"spark.sql.catalog.my_catalog\", \"org.apache.iceberg.spark.SparkCatalog\")   # Iceberg catalog configuration\n",
    "    # .config(\"spark.sql.catalog.my_catalog.type\", \"hadoop\")   # Iceberg catalog type\n",
    "    # .config(\"spark.sql.catalog.my_catalog.warehouse\", \"s3a://my-bucket/iceberg\")   # Iceberg warehouse path in MinIO\n",
    "    # .config(\"spark.jars\", \"$SPARK_HOME/jars/iceberg-spark-runtime-3.3_2.12-1.2.0.jar\")   # Load Iceberg runtime JAR\n",
    "    # .config(\"spark.hadoop.fs.s3a.connection.ssl.enabled\", \"false\")   # Disable SSL (if MinIO is running without SSL)\n",
    "    .getOrCreate()\n",
    ")\n",
    "\n",
    "# Confirm the Spark session is up and running\n",
    "spark"
   ]
  },
  {
   "cell_type": "code",
   "execution_count": null,
   "metadata": {},
   "outputs": [],
   "source": []
  },
  {
   "cell_type": "code",
   "execution_count": null,
   "metadata": {},
   "outputs": [],
   "source": []
  }
 ],
 "metadata": {
  "kernelspec": {
   "display_name": "Python 3 (ipykernel)",
   "language": "python",
   "name": "python3"
  },
  "language_info": {
   "codemirror_mode": {
    "name": "ipython",
    "version": 3
   },
   "file_extension": ".py",
   "mimetype": "text/x-python",
   "name": "python",
   "nbconvert_exporter": "python",
   "pygments_lexer": "ipython3",
   "version": "3.7.16"
  }
 },
 "nbformat": 4,
 "nbformat_minor": 2
}

{
 "cells": [
  {
   "cell_type": "markdown",
   "metadata": {},
   "source": [
    "## PySpark & Pydeequ testing\n",
    "\n",
    "The following notebook is a simple test of getting PySpark & Pydeequ (the Python API for AWS DEEQU) working locally <br>\n",
    "\n",
    "Using Minconda on WSL (Ubuntu distro), I created an environment called `dmc_1` (details can be found in the `requirements.txt` file) <br>\n",
    "\n",
    "But in particular, this environment uses:\n",
    "- PySpark == 2.4.0\n",
    "- Pydeequ == 1.0.1\n",
    "- Python == 3.7.13 "
   ]
  },
  {
   "cell_type": "markdown",
   "metadata": {},
   "source": [
    "To use Pydeequ, you will need to set an environment variable SPARK_VERSION. We set this to `2.4.0` as that is our PySpark version "
   ]
  },
  {
   "cell_type": "code",
   "execution_count": 1,
   "metadata": {},
   "outputs": [
    {
     "name": "stdout",
     "output_type": "stream",
     "text": [
      "2.4.0\n"
     ]
    }
   ],
   "source": [
    "# set environment variable SPARK_VERSION \n",
    "import os \n",
    "\n",
    "os.environ[\"SPARK_VERSION\"]=\"2.4.0\" \n",
    "\n",
    "spark_version = os.environ[\"SPARK_VERSION\"] \n",
    "print(spark_version)"
   ]
  },
  {
   "cell_type": "code",
   "execution_count": 2,
   "metadata": {},
   "outputs": [],
   "source": [
    "# import pyspark & pydeequ \n",
    "from pyspark.sql import SparkSession, Row\n",
    "import pydeequ "
   ]
  },
  {
   "cell_type": "code",
   "execution_count": 3,
   "metadata": {},
   "outputs": [
    {
     "name": "stdout",
     "output_type": "stream",
     "text": [
      "Spark session created - accessible via `spark`\n"
     ]
    }
   ],
   "source": [
    "# build a spark session with deequ in it \n",
    "try:\n",
    "    spark = (SparkSession\n",
    "    .builder\n",
    "    .config(\"spark.jars.packages\", pydeequ.deequ_maven_coord)\n",
    "    .config(\"spark.jars.excludes\", pydeequ.f2j_maven_coord)\n",
    "    .getOrCreate()) \n",
    "    print(\"Spark session created - accessible via `spark`\")\n",
    "\n",
    "except Exception as e:\n",
    "    print(\"ERROR - Spark session failed\") \n",
    "    print(e) "
   ]
  },
  {
   "cell_type": "markdown",
   "metadata": {},
   "source": [
    "Ok, now let's run a pydeequ example with PySpark"
   ]
  },
  {
   "cell_type": "code",
   "execution_count": 4,
   "metadata": {},
   "outputs": [
    {
     "name": "stdout",
     "output_type": "stream",
     "text": [
      "+---+---+----+\n",
      "|  a|  b|   c|\n",
      "+---+---+----+\n",
      "|foo|  1|   5|\n",
      "|bar|  2|   6|\n",
      "|baz|  3|null|\n",
      "+---+---+----+\n",
      "\n"
     ]
    }
   ],
   "source": [
    "df = spark.sparkContext.parallelize([\n",
    "Row(a=\"foo\", b=1, c=5),\n",
    "Row(a=\"bar\", b=2, c=6),\n",
    "Row(a=\"baz\", b=3, c=None)]).toDF() \n",
    "\n",
    "df.show() "
   ]
  },
  {
   "cell_type": "code",
   "execution_count": 5,
   "metadata": {},
   "outputs": [
    {
     "name": "stdout",
     "output_type": "stream",
     "text": [
      "+-------+--------+------------+-----+\n",
      "| entity|instance|        name|value|\n",
      "+-------+--------+------------+-----+\n",
      "|Dataset|       *|        Size|  3.0|\n",
      "| Column|       b|Completeness|  1.0|\n",
      "+-------+--------+------------+-----+\n",
      "\n"
     ]
    }
   ],
   "source": [
    "# install analysers from pydeequ \n",
    "from pydeequ.analyzers import * \n",
    "\n",
    "analysisResult = AnalysisRunner(spark) \\\n",
    ".onData(df) \\\n",
    ".addAnalyzer(Size()) \\\n",
    ".addAnalyzer(Completeness(\"b\")) \\\n",
    ".run()\n",
    "analysisResult_df = AnalyzerContext.successMetricsAsDataFrame(spark, analysisResult)\n",
    "analysisResult_df.show()"
   ]
  },
  {
   "cell_type": "code",
   "execution_count": 6,
   "metadata": {},
   "outputs": [],
   "source": [
    "# stop the spark session \n",
    "spark.stop() "
   ]
  },
  {
   "cell_type": "markdown",
   "metadata": {},
   "source": [
    "#### End"
   ]
  }
 ],
 "metadata": {
  "interpreter": {
   "hash": "32fbe080b903a245ae1fc71edb29824851588fe92b2aac043ce42a8ca30847c6"
  },
  "kernelspec": {
   "display_name": "Python 3.7.13 ('dmc_1')",
   "language": "python",
   "name": "python3"
  },
  "language_info": {
   "codemirror_mode": {
    "name": "ipython",
    "version": 3
   },
   "file_extension": ".py",
   "mimetype": "text/x-python",
   "name": "python",
   "nbconvert_exporter": "python",
   "pygments_lexer": "ipython3",
   "version": "3.9.13"
  },
  "orig_nbformat": 4
 },
 "nbformat": 4,
 "nbformat_minor": 2
}

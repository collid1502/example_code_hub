{
 "cells": [
  {
   "cell_type": "markdown",
   "metadata": {},
   "source": [
    "# Windows - Shared Drive Scanner\n",
    "\n",
    "Scan a drive (and all sub-folders) to find file sizes & owners"
   ]
  },
  {
   "cell_type": "code",
   "execution_count": null,
   "metadata": {},
   "outputs": [],
   "source": [
    "# imports \n",
    "import win32security \n",
    "import os \n",
    "import pandas as pd\n",
    "import smtplib \n",
    "from email.message import EmailMessage \n",
    "\n",
    "pd.set_option(\"max_colwidth\", None)\n",
    "pd.set_option(\"max_columns\", None) "
   ]
  },
  {
   "cell_type": "markdown",
   "metadata": {},
   "source": [
    "Input top level directory you wish to scan from in `dir_name` and the folder path of where to save the CSV results to `csv_save` "
   ]
  },
  {
   "cell_type": "code",
   "execution_count": null,
   "metadata": {},
   "outputs": [],
   "source": [
    "# to scan from \n",
    "dir_name = r\"C:\\example\\file\\path\" \n",
    "\n",
    "# location to save results to \n",
    "csv_save = r\"C:\\example\\save\\location\" \n",
    "\n",
    "csv_name = \"driveScanResults.csv\" "
   ]
  },
  {
   "cell_type": "code",
   "execution_count": null,
   "metadata": {},
   "outputs": [],
   "source": [
    "# key functions to use \n",
    "def emailSend(Host=None, From=None, To=None, Subject=None, Message=None, Signature=None):\n",
    "    \"\"\"\n",
    "    Function to send an email from within a python script, to a list of provided emails\n",
    "\n",
    "    params:\n",
    "        host - host to push the email through \n",
    "        from - the sender email address\n",
    "        to - list of email addresses to be sent the mail\n",
    "        subject - subject header you would like email to have \n",
    "        message - the body of text to be in the email \n",
    "        signature - the sign off for the email \n",
    "\n",
    "    returns:\n",
    "        an output email to designated addresses within 'to' list \n",
    "    \"\"\"\n",
    "    msg = EmailMessage() \n",
    "    msg['Subject'] = Subject \n",
    "    msg['From'] = From \n",
    "    msg['To'] = To \n",
    "    msg.set_content(Message + \"\\n\" + Signature) \n",
    "\n",
    "    # push email\n",
    "    smtplib.SMTP(Host).send_message(msg) \n",
    "    smtplib.SMTP(Host).quit() \n",
    "\n",
    "\n",
    "# -----------------------------------------------------------\n",
    "\n",
    "def get_files_and_owner(root, dirs, filename):\n",
    "    # full file path \n",
    "    f = os.path.join(root, filename) \n",
    "    # size of each file \n",
    "    size = os.path.getsize(os.path.join(root, f)) \n",
    "    # get owner information - SID\n",
    "    sd = win32security.GetFileSecurity(f, win32security.OWNER_SECURITY_INFORMATION) \n",
    "    owner_sid = sd.GetSecurityDescriptorOwner() \n",
    "    # pull out the name \n",
    "    name, domain, type = win32security.LookupAccountSid(None, owner_sid) \n",
    "\n",
    "    # return dict with relevant info \n",
    "    return {'owner':name, 'size':size, 'location':root, 'filename':filename}\n",
    "\n",
    "\n",
    "# -----------------------------------------------------------\n",
    "\n",
    "def size_as_MB(size):\n",
    "    return size/2**20\n",
    "\n",
    "\n",
    "# ------------------------------------------------------------\n",
    "\n",
    "def scanner(filepath=None):\n",
    "    # set counters and lists to zero / empty for future population \n",
    "    filecount = 0\n",
    "    myfiles=[] \n",
    "    myfilecount=0 \n",
    "\n",
    "    errors=[] \n",
    "    errorcount=0 \n",
    "\n",
    "    # run through each directory in the required filepath \n",
    "    for root, dirs, files in os.walk(filepath):\n",
    "        # cycle through each file in directories \n",
    "        for filename in files:\n",
    "            try:\n",
    "                # get details of each file \n",
    "                file_details = get_files_and_owner(root, dirs, filename) \n",
    "                filecount +=1 \n",
    "                owner = file_details['owner'] \n",
    "\n",
    "                # create size check cut off - only pull back stuff bigger than 50mb \n",
    "                file_size = size_as_MB(file_details['size']) \n",
    "                if file_size >= 50:\n",
    "                    # append directory, name and siz eof file in MB \n",
    "                    myfiles.append([root, filename, size_as_MB(file_details['size']), owner])\n",
    "                    myfilecount += 1\n",
    "\n",
    "            # any part of process fails \n",
    "            except Exception as e:\n",
    "                errors.append([root+filename, repr(e)]) \n",
    "                errorcount += 1\n",
    "\n",
    "    # create output list \n",
    "    filelist = myfiles \n",
    "    print(\"files processed = {}\".format(filecount)) \n",
    "    print(\"errors = {}\".format(errorcount)) \n",
    "\n",
    "    return filelist "
   ]
  },
  {
   "cell_type": "markdown",
   "metadata": {},
   "source": [
    "Now process the scan "
   ]
  },
  {
   "cell_type": "code",
   "execution_count": null,
   "metadata": {},
   "outputs": [],
   "source": [
    "try:\n",
    "    scanned_files = scanner(dir_name) \n",
    "\n",
    "    # collect results to pandas df \n",
    "    scanned_files_df = pd.DataFrame(scanned_files, columns=[\"Location\",\"file_name\",\"file_size_mb\",\"owner\"]) \n",
    "\n",
    "    # sort by size desc \n",
    "    scanned_files_out = scanned_files_df.sort_values(by='file_size_mb', ascending=False).round(decimals=4) \n",
    "\n",
    "    # write results out to CSV \n",
    "    save_path = csv_save + \"\\\\\" + csv_name \n",
    "\n",
    "    scanned_files_out.to_csv(save_path, index=False) \n",
    "    print(\"Scan successful - output saved\") \n",
    "\n",
    "except Exception as e:\n",
    "    print(\"ERROR - scan has failure\") \n",
    "    print(e) "
   ]
  }
 ],
 "metadata": {
  "kernelspec": {
   "display_name": "Python 3.9.13 ('dmc1')",
   "language": "python",
   "name": "python3"
  },
  "language_info": {
   "name": "python",
   "version": "3.9.13"
  },
  "orig_nbformat": 4,
  "vscode": {
   "interpreter": {
    "hash": "1814ea38d432770aa62bca414baae06125860de85bcb8269d8f211b5c8ad8432"
   }
  }
 },
 "nbformat": 4,
 "nbformat_minor": 2
}

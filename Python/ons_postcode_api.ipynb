{
 "cells": [
  {
   "cell_type": "markdown",
   "metadata": {},
   "source": [
    "## Connecting to ONS Open Data Portal ~ Postcode Lookup \n",
    "\n",
    "Author: `Dan Collins` <br> \n",
    "Last Updated: `19/01/2022` <br> \n",
    "This script collects postcodes & other metadata from the UK ONS open data portal through their endpoint"
   ]
  },
  {
   "cell_type": "code",
   "execution_count": null,
   "metadata": {},
   "outputs": [],
   "source": [
    "# key imports \n",
    "import requests\n",
    "import pandas as pd \n",
    "import numpy as np \n",
    "\n",
    "# remove column cap on Pandas outputs\n",
    "pd.set_option('max_columns', None) "
   ]
  },
  {
   "cell_type": "code",
   "execution_count": null,
   "metadata": {},
   "outputs": [],
   "source": [
    "# First stage, use the requests lib to poll the ONS Postcode Directory for the number of \"Object IDs\" ~ aka Postocdes\n",
    "# We do this, as there is a call limit to the API which caps out at 50,000 (but not for Record IDs). So, we can loop through Object IDs to collect all postcodes after\n",
    "\n",
    "ons_postcode_query = r\"\"\"\n",
    "https://ons-inspire.esriuk.com/arcgis/rest/services/Postcodes/ONS_Postcode_Directory_Latest_Centroids/MapServer/0/query?where=1%3D1&outFields=pcd,dointr,doterm,ctry,rgn,lat,long&outSR=4326&f=json&returnIdsOnly=true\n",
    "\"\"\"\n",
    "\n",
    "response = requests.get(ons_postcode_query).json() \n",
    "\n",
    "postcode_object_ids = pd.json_normalize(response, 'objectIds') \n",
    "\n",
    "postcode_vol = len(postcode_object_ids) \n",
    "\n",
    "print()\n",
    "print(\"Number of postcodes found: \" + f\"{postcode_vol:,}\")\n",
    "print()"
   ]
  },
  {
   "cell_type": "code",
   "execution_count": null,
   "metadata": {},
   "outputs": [],
   "source": [
    "# with the number of Object IDs now known - we will loop through in batches of 100 to call from the API \n",
    "# seems to be some performance issues if going above batches of 100, tested 500 and hit a few issues, but maybe it was a one off ...\n",
    "\n",
    "#dummy = 500000       # a test of 500,000 postcodes took c.20 minutes\n",
    "loop_counter = 0 \n",
    "\n",
    "# empty list for Pandas DFs\n",
    "all_dfs = [] \n",
    "\n",
    "# postcode JSON query for calling data from endpoint\n",
    "pcd_api_call = r\"\"\"\n",
    "https://ons-inspire.esriuk.com/arcgis/rest/services/Postcodes/ONS_Postcode_Directory_Latest_Centroids/MapServer/0/query?where=1%3D1&outFields=pcd,dointr,doterm,oslaua,osward,ctry,rgn,pct,lsoa01,lat,long&outSR=4326&f=json&objectIds=\n",
    "\"\"\"\n",
    "\n",
    "# the loop, will add a custom list of Object IDs (in a batch) onto the JSON query template above, to bring back into a pandas DF\n",
    "# all these pandas df's can then be concated into a single large DF, containing all postcodes\n",
    "while loop_counter <= postcode_vol:\n",
    "\n",
    "    # steps to do \n",
    "    obj_id_str = \",\".join([str(i) for i in range((loop_counter + 1), (loop_counter + 101))])\n",
    "    custom_json_qry = str(pcd_api_call + obj_id_str).replace(\" \", \"\") \n",
    "\n",
    "    # collect API response \n",
    "    api_response = requests.get(custom_json_qry).json() \n",
    "    #print(requests.get(custom_json_qry).status_code)  # TESTING ~ 200 indicates successful call \n",
    "\n",
    "    # convert to pandas df format ~ 'features' is essentially the sub-heading of JSON string for all fields we are calling from the API\n",
    "    df = pd.json_normalize(api_response, 'features') \n",
    "\n",
    "    # append into list \n",
    "    all_dfs.append(df) \n",
    "\n",
    "    # add to loop counter \n",
    "    loop_counter = loop_counter + 100"
   ]
  },
  {
   "cell_type": "code",
   "execution_count": null,
   "metadata": {},
   "outputs": [],
   "source": [
    "uk_postcodes = pd.concat(all_dfs, axis=0).reset_index() \n",
    "#uk_postcodes.sample(n=5)"
   ]
  },
  {
   "cell_type": "code",
   "execution_count": null,
   "metadata": {},
   "outputs": [],
   "source": [
    "# define series of functions to translate codes to actual values per ONS open Data Portal guides\n",
    "# -----------------------------------------------------------------------------------------------\n",
    "\n",
    "# dates which come in YYYYMM format only and ad '01' for first day of month \n",
    "def date_clean(r):\n",
    "    if r != None:\n",
    "        r = r + \"01\" \n",
    "    return r\n",
    "\n",
    "\n",
    "# -----------------------------------------------------------------------------------------------\n",
    "\n",
    "\n",
    "# changes country codes to actual values \n",
    "def country_clean(r):\n",
    "    if r.replace(\" \", \"\") == 'E92000001':\n",
    "        r = 'England' \n",
    "    elif r.replace(\" \", \"\") == 'W92000004':\n",
    "        r = 'Wales'\n",
    "    elif r.replace(\" \", \"\") == 'S92000003':\n",
    "        r = 'Scotland'       \n",
    "    elif r.replace(\" \", \"\") == 'N92000002':\n",
    "        r = 'Northern Ireland'   \n",
    "    elif r.replace(\" \", \"\") == 'L93000001':\n",
    "        r = 'Channel Islands'\n",
    "    elif r.replace(\" \", \"\") == 'M83000003':\n",
    "        r = 'Isle of Man'\n",
    "\n",
    "    return r\n",
    "\n",
    "\n",
    "# -----------------------------------------------------------------------------------------------\n",
    "\n",
    "\n",
    "# changes region codes to actual values \n",
    "def region_clean(r):\n",
    "    if r.replace(\" \", \"\") == \"E12000001\":\n",
    "        r = 'North East' \n",
    "    elif r.replace(\" \", \"\") == \"E12000002\":\n",
    "        r = 'North West' \n",
    "    elif r.replace(\" \", \"\") == \"E12000003\":\n",
    "        r = 'Yorkshire and The Humber' \n",
    "    elif r.replace(\" \", \"\") == \"E12000004\":\n",
    "        r = 'East Midlands' \n",
    "    elif r.replace(\" \", \"\") == \"E12000005\":\n",
    "        r = 'West Midlands' \n",
    "    elif r.replace(\" \", \"\") == \"E12000006\":\n",
    "        r = 'East of England' \n",
    "    elif r.replace(\" \", \"\") == \"E12000007\":\n",
    "        r = 'London' \n",
    "    elif r.replace(\" \", \"\") == \"E12000008\":\n",
    "        r = 'South East' \n",
    "    elif r.replace(\" \", \"\") == \"E12000009\":\n",
    "        r = 'South West' \n",
    "    elif r.replace(\" \", \"\") == \"W99999999\":\n",
    "        r = 'Wales' \n",
    "    elif r.replace(\" \", \"\") == \"S99999999\":\n",
    "        r = 'Scotland' \n",
    "    elif r.replace(\" \", \"\") == \"N99999999\":\n",
    "        r = 'Northern Ireland' \n",
    "    elif r.replace(\" \", \"\") == \"L99999999\":\n",
    "        r = 'Channel Islands' \n",
    "    elif r.replace(\" \", \"\") == \"M99999999\":\n",
    "        r = 'Isle of Man' \n",
    "    else:\n",
    "        r = None \n",
    "\n",
    "    return r"
   ]
  },
  {
   "cell_type": "code",
   "execution_count": null,
   "metadata": {},
   "outputs": [],
   "source": [
    "# apply above functions\n",
    "uk_postcodes['country'] = uk_postcodes.apply(lambda row: country_clean(row['attributes.ctry']), axis=1) \n",
    "uk_postcodes['introduced'] = uk_postcodes.apply(lambda row: date_clean(row['attributes.dointr']), axis=1) \n",
    "uk_postcodes['terminated'] = uk_postcodes.apply(lambda row: date_clean(row['attributes.doterm']), axis=1) \n",
    "uk_postcodes['region'] = uk_postcodes.apply(lambda row: region_clean(row['attributes.rgn']), axis=1) \n",
    "uk_postcodes2 = uk_postcodes.rename(columns={'attributes.pcd': 'postcode', 'attributes.lat': 'latitude','attributes.long': 'longitude'})\n",
    "\n",
    "keep_cols = [\"postcode\", \"introduced\", \"terminated\", \"country\", \"region\", \"latitude\", \"longitude\"]\n",
    "ons_postcodes_data = uk_postcodes2[keep_cols] "
   ]
  },
  {
   "cell_type": "code",
   "execution_count": null,
   "metadata": {},
   "outputs": [],
   "source": [
    "# final data frame \n",
    "ons_postcodes_data.sample(n=10) "
   ]
  },
  {
   "cell_type": "markdown",
   "metadata": {},
   "source": [
    "### End"
   ]
  }
 ],
 "metadata": {
  "interpreter": {
   "hash": "dcdb6e67d461e2efab67d4fa6e0571bdfed59e5698c03213fe392628926ef1fe"
  },
  "kernelspec": {
   "display_name": "Python 3.8.11 64-bit (conda)",
   "language": "python",
   "name": "python3"
  },
  "language_info": {
   "codemirror_mode": {
    "name": "ipython",
    "version": 3
   },
   "file_extension": ".py",
   "mimetype": "text/x-python",
   "name": "python",
   "nbconvert_exporter": "python",
   "pygments_lexer": "ipython3",
   "version": "3.8.11"
  },
  "orig_nbformat": 4
 },
 "nbformat": 4,
 "nbformat_minor": 2
}
